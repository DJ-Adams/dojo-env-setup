{
 "cells": [
  {
   "cell_type": "markdown",
   "metadata": {},
   "source": [
    "# Replace Links\n"
   ]
  },
  {
   "cell_type": "markdown",
   "metadata": {},
   "source": [
    "- This notebook is designed to replace any web-links for images with links to new, locally downloaded versions. \n",
    "- Goal is to make images show up in Markdown files on GitHub and in Jupyter Notebook."
   ]
  },
  {
   "cell_type": "markdown",
   "metadata": {},
   "source": [
    "Code source:\n",
    "- https://chat.openai.com/share/d88adba0-39d5-49dc-ad15-fcb5136d56cd\n",
    "- https://chat.openai.com/share/d88adba0-39d5-49dc-ad15-fcb5136d56cd"
   ]
  },
  {
   "cell_type": "code",
   "execution_count": 43,
   "metadata": {},
   "outputs": [],
   "source": [
    "import os\n",
    "import re\n",
    "import requests\n",
    "\n",
    "def download_and_replace_links(input_file_path_or_content, output_folder=\"./images\", save_to_file=False,  updated_filename='updated.html'):\n",
    "    \"\"\"\n",
    "    Downloads linked content (images or files) from HTML or Markdown input,\n",
    "    replaces links with local references, and optionally saves or returns updated content.\n",
    "\n",
    "    Args:\n",
    "        input_file_path_or_content (str): Path to the input HTML or Markdown file, or the actual content.\n",
    "        output_folder (str): Path to the folder where linked content will be downloaded and saved.\n",
    "        save_to_file (bool, optional): If True, saves the updated content to a file. If False, returns the updated content as a string. Default is True.\n",
    "        updated_filename (str, optional): Name of the file to save the updated content if save_to_file is True. Default is 'updated.html'.\n",
    "\n",
    "    Returns:\n",
    "        None: If save_to_file is True.\n",
    "        str: Updated content as a string if save_to_file is False.\n",
    "\n",
    "    Example:\n",
    "        input_file_path = 'path/to/your/input.html'\n",
    "        output_folder = 'images'\n",
    "        save_to_file = True\n",
    "        updated_filename = 'custom_updated_filename.html'\n",
    "        download_and_replace_links(input_file_path, output_folder, save_to_file, updated_filename)\n",
    "\n",
    "        # For handling Markdown input\n",
    "        input_md_content = 'Markdown content with [links](https://example.com/image.jpg)'\n",
    "        save_to_file = False\n",
    "        updated_md_content = download_and_replace_links(input_md_content, output_folder, save_to_file)\n",
    "    \"\"\"\n",
    "    # Create the output folder if it doesn't exist\n",
    "    if not os.path.exists(output_folder):\n",
    "        os.makedirs(output_folder)\n",
    "    \n",
    "    # Check if input_file_path_or_content is a file path or content\n",
    "    if os.path.isfile(input_file_path_or_content):\n",
    "        with open(input_file_path_or_content, 'r', encoding='utf-8') as input_file:\n",
    "            file_content = input_file.read()\n",
    "    else:\n",
    "        file_content = input_file_path_or_content\n",
    "    \n",
    "    # Determine whether the input is HTML or Markdown based on patterns\n",
    "    if re.search(r'<[a-z][\\s\\S]*>', file_content):\n",
    "        is_html = True\n",
    "    elif re.search(r'#+\\s+', file_content):\n",
    "        is_html = False\n",
    "    else:\n",
    "        raise ValueError(\"Unsupported input format. Supported formats: HTML, Markdown\")\n",
    "    \n",
    "    # Find all links and process them\n",
    "    links = re.findall(r'\\[.*?\\]\\((.*?)\\)', file_content)\n",
    "    \n",
    "    for link_url in links:\n",
    "        link_name = os.path.basename(link_url)\n",
    "        link_path = os.path.join(output_folder, link_name)\n",
    "        if link_name ==\"\":\n",
    "            print(f\"- Not an image: {link_url}\") \n",
    "            continue\n",
    "        \n",
    "        # Download the linked content (image or file)\n",
    "        response = requests.get(link_url)\n",
    "        \n",
    "        # try:\n",
    "        with open(link_path, 'wb') as link_file:\n",
    "            link_file.write(response.content)\n",
    "        # except Exception as e:\n",
    "            # display(e)\n",
    "            # print(f\"link= {link_url}\")\n",
    "            # print(f\"link_path= {link_path}\")\n",
    "            # print(f\"link_name= {link_name}\")\n",
    "        \n",
    "        # Replace the link in the content\n",
    "        # old_link = f'[{link_name}]({link_url})'\n",
    "        # new_link = f'[{link_name}]({os.path.join(\"./\", output_folder, link_name)})'\n",
    "        new_link = os.path.join(\"./\", output_folder, link_name)\n",
    "        file_content = file_content.replace(link_url, new_link)#old_link, new_link)\n",
    "    \n",
    "    if save_to_file:\n",
    "        # Save the updated content\n",
    "        # updated_path = os.path.join(output_folder, updated_filename)\n",
    "        updated_path=updated_filename\n",
    "        with open(updated_path, 'w', encoding='utf-8') as updated_file:\n",
    "            updated_file.write(file_content)\n",
    "        return None\n",
    "    else:\n",
    "        return file_content\n"
   ]
  },
  {
   "cell_type": "markdown",
   "metadata": {},
   "source": [
    "### Opening Markdown file (manually)"
   ]
  },
  {
   "cell_type": "code",
   "execution_count": null,
   "metadata": {},
   "outputs": [],
   "source": []
  },
  {
   "cell_type": "code",
   "execution_count": null,
   "metadata": {},
   "outputs": [],
   "source": []
  },
  {
   "cell_type": "code",
   "execution_count": 38,
   "metadata": {},
   "outputs": [
    {
     "data": {
      "text/markdown": [
       "# Windows Installation Instructions\n",
       "\n",
       "## Table of Contents\n",
       "\n",
       "**Step 1) Download and install required applications**\n",
       "\n",
       "- Step 1.1) Install Tool #1: Windows Terminal with GitBash\n",
       "    - Step 1.1.0) Install Windows Terminal\n",
       "    - Step 1.1.1) Install Git for Windows\n",
       "    - Step 1.1.2) Make GitBash the Default Profile in Windows Terminal\n",
       "    - Step 1.1.3) Confirm that your default shell is set to GitBash\n",
       "- Step 1.2) Install Tool #2: GitHub Desktop\n",
       "    - Step 1.2.1) Install GitHub Desktop and Log Into GitHub Account\n",
       "    - Step 1.2.2) Make Windows Terminal the Default Shell in GitHub Desktop\n",
       "- Step 1.3) Install a Python distribution (Anaconda)\n",
       "    - Step 1.3.1) Download and Install Anaconda\n",
       "    - Step 1.3.2) Verifying that Terminal/GitBash Knows \"conda\"\n",
       "    - Step 1.3.3) (if needed) Adding Conda to GitBash\n",
       "\n",
       "**Step 2) Setting Up Your dojo-env Environment**\n",
       "\n",
       "- Step 2.1) Clone the dojo-env-setup repository\n",
       "- Step 2.2) Open the repo's folder in your Terminal\n",
       "- Step 2.3) Create the dojo-env environment from file\n",
       "    - Step 2.3.1) Run the correct \"conda env create\" command for your OS\n",
       "    - Step 2.3.2) Wait for the dojo-env to be created\n",
       "    - Step 2.3.3 Confirm your environment was installed.\n",
       "- Step 2.4) Activate dojo-env and set it as your default environment.\n",
       "    - Step 2.4.1) Activate dojo-env\n",
       "    - Step 2.4.2) (if needed): Troubleshoot Conda Activate Errors\n",
       "    - Step 2.4.3) Confirm that your Home folder is your User folder\n",
       "    - Step 2.4.4) Add automatic activation of dojo-env \n",
       "    - Step 2.4.5) Confirm dojo-env is the default & \"jnb\" alias works.\n",
       "    - Step 2.4.6) Shut Down Jupyter (properly)\n",
       "- Step 2.5) Test the environment.\n",
       "\n",
       "    - Step 2.5.1) Open the environment tester notebook \n",
       "    - Step 2.5.2) Change the notebook's kernel to dojo-env\n",
       "    - Step 2.5.3) Run the environment test notebook from start to finish.\n",
       "- To Get Help Troubleshooting Your Environment\n",
       "\n",
       "**Step 3) Jupyter Notebook Preferences**\n",
       "\n",
       "**Step 4) Install a Text Editor - VS Code**\n",
       "\n",
       "___\n",
       "\n",
       "\n",
       "\n",
       "# **Step 1) Download and install required applications**\n",
       "\n",
       "### Table of Contents - Step 1:\n",
       "\n",
       "- Step 1.1) Install Tool #1: Windows Terminal with GitBash\n",
       "- Step 1.2) Install Tool #2: GitHub Desktop\n",
       "- Step 1.3) Install a Python Distribution - Anaconda\n",
       "\n",
       "\n",
       "\n",
       "Before we install our python environment, we need to take care of a couple of requirements. \n",
       "\n",
       "## Step 1.1) Install Tool #1: Windows Terminal with GitBash\n",
       "\n",
       "- Windows users will use a combination of GitBash and Windows Terminal. Windows Terminal comes pre-installed with Windows 11, but can be added to Windows 10.\n",
       "\n",
       "- You should not use the  windows command prompt because the commands for working with your terminal will not match the curriculum and other cloud-based platforms (like Amazon Web Services).\n",
       "\n",
       "    - Note: for a list of the equivalent commands for Windows command prompt see [this cheat sheet](https://www.geeksforgeeks.org/linux-vs-windows-commands/).\n",
       "\n",
       "### Step 1.1.0) (Windows 10 Only) Install Windows Terminal via the Microsoft Store\n",
       "\n",
       "NOTE: Windows 11 comes with Windows Terminal pre-installed. If you are running Windows 11, you can skip Step 0 and start with Step 1.\n",
       "\n",
       "- For Windows 10 users, open your start menu using your Windows key or clicking on the Start Menu in the bottom left corner.\n",
       "\n",
       "![img](https://assets.codingdojo.com/boomyeah2015/codingdojo/curriculum/content/chapter/1670872974__1A_start_menu.png)\n",
       "\n",
       "- Type \"Store\" with the start menu open and it will automatically start searching. You should see \"Microsoft Store\" appear.\n",
       "\n",
       "![img](https://assets.codingdojo.com/boomyeah2015/codingdojo/curriculum/content/chapter/1670873063__1_search_windows_store.png)\n",
       "\n",
       "- Click on the Microsoft Store app on the left or click \"Open\" on the right sidebar to open the Microsoft store.\n",
       "- Once the Microsoft store opens, click on the Search box on the top of app.\n",
       "\n",
       "![img](https://assets.codingdojo.com/boomyeah2015/codingdojo/curriculum/content/chapter/1670873315__2A_microsoft_store_home.png)\n",
       "\n",
       "- Enter \"Windows Terminal\" in the search box and you should see the Windows Terminal result appear with a blue \"Get\" button like in the screenshot below:\n",
       "\n",
       "![img](https://assets.codingdojo.com/boomyeah2015/codingdojo/curriculum/content/chapter/1670873463__2_search_windows_terminal.png)\n",
       "\n",
       "- Click on the blue \"Get\" button to start downloading the app.\n",
       "\n",
       "![img](https://assets.codingdojo.com/boomyeah2015/codingdojo/curriculum/content/chapter/1670873501__3_download_windows_terminal.png)\n",
       "\n",
       "- Once its done downloading, the blue \"Get\" button will become an \"Open\" button. Click on \"Open\" to confirm that Windows Terminal is properly installed.\n",
       "- A new \"Windows Terminal\" window running Powershell should appear, like in the screenshot below:\n",
       "\n",
       "![img](https://assets.codingdojo.com/boomyeah2015/codingdojo/curriculum/content/chapter/1670873594__4_open_windows_terminal.png)\n",
       "\n",
       "- After confirming windows terminal is installed, click on the X in the top right corner to close the app. You are all set to move on to the next step!\n",
       "\n",
       "------\n",
       "\n",
       "### Step 1.1.1) Install Git for Windows\n",
       "\n"
      ],
      "text/plain": [
       "<IPython.core.display.Markdown object>"
      ]
     },
     "metadata": {},
     "output_type": "display_data"
    }
   ],
   "source": [
    "with open('instructions-windows-v23.md') as f:\n",
    "    md_text = f.read()\n",
    "    \n",
    "from IPython.display import Markdown, display\n",
    "display(Markdown(md_text[:1000]))"
   ]
  },
  {
   "cell_type": "code",
   "execution_count": 39,
   "metadata": {},
   "outputs": [
    {
     "name": "stdout",
     "output_type": "stream",
     "text": [
      "- Not an image: {link_url}\n",
      "- Not an image: {link_url}\n"
     ]
    },
    {
     "data": {
      "text/markdown": [
       "# Windows Installation Instructions\n",
       "\n",
       "## Table of Contents\n",
       "\n",
       "**Step 1) Download and install required applications**\n",
       "\n",
       "- Step 1.1) Install Tool #1: Windows Terminal with GitBash\n",
       "    - Step 1.1.0) Install Windows Terminal\n",
       "    - Step 1.1.1) Install Git for Windows\n",
       "    - Step 1.1.2) Make GitBash the Default Profile in Windows Terminal\n",
       "    - Step 1.1.3) Confirm that your default shell is set to GitBash\n",
       "- Step 1.2) Install Tool #2: GitHub Desktop\n",
       "    - Step 1.2.1) Install GitHub Desktop and Log Into GitHub Account\n",
       "    - Step 1.2.2) Make Windows Terminal the Default Shell in GitHub Desktop\n",
       "- Step 1.3) Install a Python distribution (Anaconda)\n",
       "    - Step 1.3.1) Download and Install Anaconda\n",
       "    - Step 1.3.2) Verifying that Terminal/GitBash Knows \"conda\"\n",
       "    - Step 1.3.3) (if needed) Adding Conda to GitBash\n",
       "\n",
       "**Step 2) Setting Up Your dojo-env Environment**\n",
       "\n",
       "- Step 2.1) Clone the dojo-env-setup repository\n",
       "- Step 2.2) Open the repo's folder in your Terminal\n",
       "- Step 2.3) Create the dojo-env environment from file\n",
       "    - Step 2.3.1) Run the correct \"conda env create\" command for your OS\n",
       "    - Step 2.3.2) Wait for the dojo-env to be created\n",
       "    - Step 2.3.3 Confirm your environment was installed.\n",
       "- Step 2.4) Activate dojo-env and set it as your default environment.\n",
       "    - Step 2.4.1) Activate dojo-env\n",
       "    - Step 2.4.2) (if needed): Troubleshoot Conda Activate Errors\n",
       "    - Step 2.4.3) Confirm that your Home folder is your User folder\n",
       "    - Step 2.4.4) Add automatic activation of dojo-env \n",
       "    - Step 2.4.5) Confirm dojo-env is the default & \"jnb\" alias works.\n",
       "    - Step 2.4.6) Shut Down Jupyter (properly)\n",
       "- Step 2.5) Test the environment.\n",
       "\n",
       "    - Step 2.5.1) Open the environment tester notebook \n",
       "    - Step 2.5.2) Change the notebook's kernel to dojo-env\n",
       "    - Step 2.5.3) Run the environment test notebook from start to finish.\n",
       "- To Get Help Troubleshooting Your Environment\n",
       "\n",
       "**Step 3) Jupyter Notebook Preferences**\n",
       "\n",
       "**Step 4) Install a Text Editor - VS Code**\n",
       "\n",
       "___\n",
       "\n",
       "\n",
       "\n",
       "# **Step 1) Download and install required applications**\n",
       "\n",
       "### Table of Contents - Step 1:\n",
       "\n",
       "- Step 1.1) Install Tool #1: Windows Terminal with GitBash\n",
       "- Step 1.2) Install Tool #2: GitHub Desktop\n",
       "- Step 1.3) Install a Python Distribution - Anaconda\n",
       "\n",
       "\n",
       "\n",
       "Before we install our python environment, we need to take care of a couple of requirements. \n",
       "\n",
       "## Step 1.1) Install Tool #1: Windows Terminal with GitBash\n",
       "\n",
       "- Windows users will use a combination of GitBash and Windows Terminal. Windows Terminal comes pre-installed with Windows 11, but can be added to Windows 10.\n",
       "\n",
       "- You should not use the  windows command prompt because the commands for working with your terminal will not match the curriculum and other cloud-based platforms (like Amazon Web Services).\n",
       "\n",
       "    - Note: for a list of the equivalent commands for Windows command prompt see [this cheat sheet](https://www.geeksforgeeks.org/linux-vs-windows-commands/).\n",
       "\n",
       "### Step 1.1.0) (Windows 10 Only) Install Windows Terminal via the Microsoft Store\n",
       "\n",
       "NOTE: Windows 11 comes with Windows Terminal pre-installed. If you are running Windows 11, you can skip Step 0 and start with Step 1.\n",
       "\n",
       "- For Windows 10 users, open your start menu using your Windows key or clicking on the Start Menu in the bottom left corner.\n",
       "\n",
       "![img](././images/1670872974__1A_start_menu.png)\n",
       "\n",
       "- Type \"Store\" with the start menu open and it will automatically start searching. You should see \"Microsoft Store\" appear.\n",
       "\n",
       "![img](././images/1670873063__1_search_windows_store.png)\n",
       "\n",
       "- Click on the Microsoft Store app on the left or click \"Open\" on the right sidebar to open the Microsoft store.\n",
       "- Once the Microsoft store opens, click on the Search box on the top of app.\n",
       "\n",
       "![img](././images/1670873315__2A_microsoft_store_home.png)\n",
       "\n",
       "- Enter \"Windows Terminal\" in the search box and you should see the Windows Terminal result appear with a blue \"Get\" button like in the screenshot below:\n",
       "\n",
       "![img](././images/1670873463__2_search_windows_terminal.png)\n",
       "\n",
       "- Click on the blue \"Get\" button to start downloading the app.\n",
       "\n",
       "![img](././images/1670873501__3_download_windows_terminal.png)\n",
       "\n",
       "- Once its done downloading, the blue \"Get\" button will become an \"Open\" button. Click on \"Open\" to confirm that Windows Terminal is properly installed.\n",
       "- A new \"Windows Terminal\" window running Powershell should appear, like in the screenshot below:\n",
       "\n",
       "![img](././images/1670873594__4_open_windows_terminal.png)\n",
       "\n",
       "- After confirming windows terminal is installed, click on the X in the top right corner to close the app. You are all set to move on to the next step!\n",
       "\n",
       "------\n",
       "\n",
       "### Step 1.1.1) Install Git for Windows\n",
       "\n",
       "- Download the Git for Windows installer (https://gitforwindows.org/) and open it.\n",
       "\n",
       "#### Select the same options as you see in the screenshots below:\n",
       "\n",
       "- On the first page, make sure to UNCHECK \"Only show new options\" like in the screenshot below:\n",
       "\n",
       "![img](././images/1670711700__Screenshot_20221210_050015.png)\n",
       "\n",
       "- <font color=red>Make sure to select the option pictured below \"Add Git Bash Profile to Windows Terminal\"!!<"
      ],
      "text/plain": [
       "<IPython.core.display.Markdown object>"
      ]
     },
     "metadata": {},
     "output_type": "display_data"
    }
   ],
   "source": [
    "updated = download_and_replace_links(md_text)\n",
    "display(Markdown(updated[:5000]))"
   ]
  },
  {
   "cell_type": "code",
   "execution_count": 40,
   "metadata": {},
   "outputs": [],
   "source": [
    "with open('instructions-windows-final.md','w') as f:\n",
    "    f.write(updated)\n",
    "    \n",
    "# from IPython.display import Markdown, display\n",
    "# display(Markdown(md_text[:5000]))"
   ]
  },
  {
   "cell_type": "markdown",
   "metadata": {},
   "source": [
    "### Testing Opening From File and Saving to File"
   ]
  },
  {
   "cell_type": "code",
   "execution_count": 44,
   "metadata": {},
   "outputs": [
    {
     "name": "stdout",
     "output_type": "stream",
     "text": [
      "- Not an image: https://www.geeksforgeeks.org/linux-vs-windows-commands/\n",
      "- Not an image: https://desktop.github.com/\n"
     ]
    }
   ],
   "source": [
    "fname = \"instructions-windows-v23.md\"\n",
    "fname_out = \"instructions-windows-final.md\"\n",
    "updated = download_and_replace_links(fname,save_to_file=True,updated_filename=fname_out)"
   ]
  },
  {
   "cell_type": "markdown",
   "metadata": {},
   "source": [
    "### Applying in a Loop"
   ]
  },
  {
   "cell_type": "code",
   "execution_count": 49,
   "metadata": {},
   "outputs": [
    {
     "data": {
      "text/plain": [
       "['instructions-mac-intel-v23.md',\n",
       " 'Instructions-updating-dojo-env-v23.md',\n",
       " 'instructions-mac-mchip-v23.md',\n",
       " 'instructions-windows-v23.md',\n",
       " 'Installation Overview-v23.md']"
      ]
     },
     "execution_count": 49,
     "metadata": {},
     "output_type": "execute_result"
    }
   ],
   "source": [
    "import os, glob\n",
    "# sorted(os.listdir())\n",
    "files = glob.glob(\"*-v23.md\")\n",
    "files"
   ]
  },
  {
   "cell_type": "code",
   "execution_count": 50,
   "metadata": {},
   "outputs": [
    {
     "name": "stdout",
     "output_type": "stream",
     "text": [
      "- Not an image: https://desktop.github.com/\n",
      "- Not an image: https://desktop.github.com/\n",
      "- Not an image: https://docs.anaconda.com/anaconda/install/uninstall/\n",
      "- Not an image: https://www.geeksforgeeks.org/linux-vs-windows-commands/\n",
      "- Not an image: https://desktop.github.com/\n",
      "- Not an image: \n"
     ]
    }
   ],
   "source": [
    "for fname in files:\n",
    "\tfname_out =fname.replace(\"-v23\",\"-final\")# \"instructions-windows-final.md\"\n",
    "\n",
    "\tupdated = download_and_replace_links(fname,save_to_file=True,updated_filename=fname_out)\n",
    "    "
   ]
  }
 ],
 "metadata": {
  "kernelspec": {
   "display_name": "Python (dojo-env)",
   "language": "python",
   "name": "dojo-env"
  },
  "language_info": {
   "codemirror_mode": {
    "name": "ipython",
    "version": 3
   },
   "file_extension": ".py",
   "mimetype": "text/x-python",
   "name": "python",
   "nbconvert_exporter": "python",
   "pygments_lexer": "ipython3",
   "version": "3.10.10"
  },
  "orig_nbformat": 4
 },
 "nbformat": 4,
 "nbformat_minor": 2
}
